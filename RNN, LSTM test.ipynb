{
 "cells": [
  {
   "cell_type": "code",
   "execution_count": 1,
   "metadata": {},
   "outputs": [],
   "source": [
    "import tensorflow as tf\n",
    "import matplotlib.pyplot as plt\n",
    "import numpy as np"
   ]
  },
  {
   "cell_type": "code",
   "execution_count": 2,
   "metadata": {},
   "outputs": [],
   "source": [
    "def generate_time_series(batch_size, n_steps):\n",
    "    freq1, freq2, offsets1, offsets2 = np.random.rand(4, batch_size, 1)\n",
    "    time = np.linspace(0, 1, n_steps)\n",
    "    series = 0.5 * np.sin((time - offsets1) * (freq1 * 10 + 10))\n",
    "    series += 0.2 * np.sin((time - offsets2) * (freq2 * 20 + 20))\n",
    "    series += 0.1 * (np.random.rand(batch_size, n_steps) - 0.5)\n",
    "    return series[..., np.newaxis].astype(np.float32)"
   ]
  },
  {
   "cell_type": "code",
   "execution_count": 3,
   "metadata": {},
   "outputs": [],
   "source": [
    "n_steps = 50\n",
    "batch_size = 10000\n",
    "series = generate_time_series(batch_size, n_steps + 1)\n",
    "x_train, y_train = series[:7000, :n_steps], series[:7000, -1]\n",
    "x_valid, y_valid = series[7000:9000, :n_steps], series[7000:9000, -1]\n",
    "x_test, y_test = series[9000:, :n_steps], series[9000:, -1]"
   ]
  },
  {
   "cell_type": "code",
   "execution_count": 4,
   "metadata": {},
   "outputs": [
    {
     "data": {
      "image/png": "[encoded data removed]",
      "text/plain": [
       "<Figure size 432x288 with 1 Axes>"
      ]
     },
     "metadata": {
      "needs_background": "light"
     },
     "output_type": "display_data"
    }
   ],
   "source": [
    "plt.plot(series[0])\n",
    "plt.show()"
   ]
  },
  {
   "cell_type": "code",
   "execution_count": 5,
   "metadata": {},
   "outputs": [],
   "source": [
    "\"\"\"\n",
    "간단한 RNN 구조\n",
    "keras의 SimpleRNN 에서는 기본적으로 tanh를 활성화 함수로 사용\n",
    "RNN의 경우 입력 데이터의 길이에 상관 없이 time step 처리할 수 있기 때문에 input_shape=[None, 1]\n",
    "return_sequence=True : time step마다 출력 return\n",
    "하지 않으면 마지막 time step의 결과만 출력\n",
    "다음 layer를 RNN 구조 이용하려면 return_sequence=True 해야함\n",
    "마무리로 Dense 사용한 것 : SimpleRNN은 tanh를 활성화 함수로 이용하기에 결과는 -1, 1 사이\n",
    "다른 활성화 함수 사용하거나 더 빠른 계산 위해 Dense 사용\n",
    "\"\"\"\n",
    "\n",
    "model = tf.keras.models.Sequential([\n",
    "              tf.keras.layers.SimpleRNN(20, return_sequences=True, input_shape=[None, 1]),\n",
    "              tf.keras.layers.SimpleRNN(20),\n",
    "              tf.keras.layers.Dense(1)\n",
    "])"
   ]
  },
  {
   "cell_type": "code",
   "execution_count": 6,
   "metadata": {},
   "outputs": [
    {
     "name": "stdout",
     "output_type": "stream",
     "text": [
      "Model: \"sequential\"\n",
      "_________________________________________________________________\n",
      "Layer (type)                 Output Shape              Param #   \n",
      "=================================================================\n",
      "simple_rnn (SimpleRNN)       (None, None, 20)          440       \n",
      "_________________________________________________________________\n",
      "simple_rnn_1 (SimpleRNN)     (None, 20)                820       \n",
      "_________________________________________________________________\n",
      "dense (Dense)                (None, 1)                 21        \n",
      "=================================================================\n",
      "Total params: 1,281\n",
      "Trainable params: 1,281\n",
      "Non-trainable params: 0\n",
      "_________________________________________________________________\n"
     ]
    }
   ],
   "source": [
    "model.summary()"
   ]
  },
  {
   "cell_type": "code",
   "execution_count": 7,
   "metadata": {},
   "outputs": [],
   "source": [
    "\"\"\"\n",
    "LSTM (장단기 메모리 셀) 기본 구조\n",
    "데이터의 장기간 의존성을 위해 사용\n",
    "TimeDistributed : 입력 층의 모든 time step에 (...)의 내용을 적용 => 각 time step을 별개의 샘플로 다룰 때 효과적\n",
    "\"\"\"\n",
    "model2 = tf.keras.models.Sequential([\n",
    "              tf.keras.layers.LSTM(20, return_sequences=True, input_shape=[None, 1]),\n",
    "              tf.keras.layers.LSTM(20, return_sequences=True),\n",
    "              tf.keras.layers.TimeDistributed(tf.keras.layers.Dense(10))\n",
    "])"
   ]
  },
  {
   "cell_type": "code",
   "execution_count": 8,
   "metadata": {},
   "outputs": [
    {
     "name": "stdout",
     "output_type": "stream",
     "text": [
      "Model: \"sequential_1\"\n",
      "_________________________________________________________________\n",
      "Layer (type)                 Output Shape              Param #   \n",
      "=================================================================\n",
      "lstm (LSTM)                  (None, None, 20)          1760      \n",
      "_________________________________________________________________\n",
      "lstm_1 (LSTM)                (None, None, 20)          3280      \n",
      "_________________________________________________________________\n",
      "time_distributed (TimeDistri (None, None, 10)          210       \n",
      "=================================================================\n",
      "Total params: 5,250\n",
      "Trainable params: 5,250\n",
      "Non-trainable params: 0\n",
      "_________________________________________________________________\n"
     ]
    }
   ],
   "source": [
    "model2.summary()"
   ]
  },
  {
   "cell_type": "code",
   "execution_count": 9,
   "metadata": {},
   "outputs": [],
   "source": [
    "\"\"\"\n",
    "1D Conv 이용해 sequence 처리하기\n",
    "1D Conv 층을 이용해 커널로 슬라이딩하며 특성을 골라냄 (1D 특성 맵)\n",
    "strides, padding을 이용해 적절한 타깃을 만들어야 한다.\n",
    "모델의 중요하지 않은 정보를 버리고 중요 정보만 LSTM, GRU 층으로 넘기려면 \n",
    "합성곱(Conv)으로 sequence 길이 줄여야 함 (ex) kernel_size=4, strides=2, padding=\"valid\" => 반으로 다운 샘플링\n",
    "\"\"\"\n",
    "model3 = tf.keras.models.Sequential([\n",
    "                tf.keras.layers.Conv1D(filters=20, kernel_size=4, strides=2, padding=\"valid\", input_shape=[None, 1]),\n",
    "                tf.keras.layers.GRU(20, return_sequences=True),\n",
    "                tf.keras.layers.GRU(20, return_sequences=True),\n",
    "                tf.keras.layers.TimeDistributed(tf.keras.layers.Dense(10))\n",
    "])"
   ]
  },
  {
   "cell_type": "code",
   "execution_count": 10,
   "metadata": {},
   "outputs": [
    {
     "name": "stdout",
     "output_type": "stream",
     "text": [
      "Model: \"sequential_2\"\n",
      "_________________________________________________________________\n",
      "Layer (type)                 Output Shape              Param #   \n",
      "=================================================================\n",
      "conv1d (Conv1D)              (None, None, 20)          100       \n",
      "_________________________________________________________________\n",
      "gru (GRU)                    (None, None, 20)          2520      \n",
      "_________________________________________________________________\n",
      "gru_1 (GRU)                  (None, None, 20)          2520      \n",
      "_________________________________________________________________\n",
      "time_distributed_1 (TimeDist (None, None, 10)          210       \n",
      "=================================================================\n",
      "Total params: 5,350\n",
      "Trainable params: 5,350\n",
      "Non-trainable params: 0\n",
      "_________________________________________________________________\n"
     ]
    }
   ],
   "source": [
    "model3.summary()"
   ]
  },
  {
   "cell_type": "code",
   "execution_count": null,
   "metadata": {},
   "outputs": [],
   "source": []
  }
 ],
 "metadata": {
  "kernelspec": {
   "display_name": "python3.7",
   "language": "python",
   "name": "python3.7"
  },
  "language_info": {
   "codemirror_mode": {
    "name": "ipython",
    "version": 3
   },
   "file_extension": ".py",
   "mimetype": "text/x-python",
   "name": "python",
   "nbconvert_exporter": "python",
   "pygments_lexer": "ipython3",
   "version": "3.7.9"
  }
 },
 "nbformat": 4,
 "nbformat_minor": 4
}
