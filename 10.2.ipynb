{
 "cells": [
  {
   "cell_type": "code",
   "execution_count": 2,
   "metadata": {},
   "outputs": [],
   "source": [
    "import tensorflow as tf"
   ]
  },
  {
   "cell_type": "code",
   "execution_count": 3,
   "metadata": {},
   "outputs": [
    {
     "name": "stdout",
     "output_type": "stream",
     "text": [
      "2.3.0\n",
      "2.4.0\n"
     ]
    }
   ],
   "source": [
    "print(tf.__version__)\n",
    "print(tf.keras.__version__)"
   ]
  },
  {
   "cell_type": "code",
   "execution_count": 4,
   "metadata": {},
   "outputs": [],
   "source": [
    "from tensorflow import keras"
   ]
  },
  {
   "cell_type": "code",
   "execution_count": 5,
   "metadata": {},
   "outputs": [],
   "source": [
    "fashion_mnist = keras.datasets.fashion_mnist\n",
    "(X_train_full, y_train_full), (X_test, y_test) = fashion_mnist.load_data()"
   ]
  },
  {
   "cell_type": "code",
   "execution_count": 6,
   "metadata": {},
   "outputs": [
    {
     "data": {
      "text/plain": [
       "(60000, 28, 28)"
      ]
     },
     "execution_count": 6,
     "metadata": {},
     "output_type": "execute_result"
    }
   ],
   "source": [
    "X_train_full.shape"
   ]
  },
  {
   "cell_type": "code",
   "execution_count": 7,
   "metadata": {},
   "outputs": [
    {
     "data": {
      "text/plain": [
       "dtype('uint8')"
      ]
     },
     "execution_count": 7,
     "metadata": {},
     "output_type": "execute_result"
    }
   ],
   "source": [
    "X_train_full.dtype"
   ]
  },
  {
   "cell_type": "markdown",
   "metadata": {},
   "source": [
    "fashon_mnist : MNIST 와 같이 10가지로 옷 종류 (운동화, 셔츠, 등등) 분류할 수 있는\n",
    "28x28 픽셀 이미지 70,000개 \n",
    "\n",
    "트레이닝 셋과 테스트 셋 분류되어 있음\n",
    "\n",
    "(train_image, train_label), (test_image, test_label) = fashion_mnist.load_data()\n",
    "기본 데이터 타입 : int\n",
    "\n",
    "레이블 : \n",
    "0 : T-shirt/top\n",
    "1 : Trouser\n",
    "2 : Pullover\n",
    "3 : Dress\n",
    "4 : Coat\n",
    "5 : Sandal\n",
    "6 : Shirt\n",
    "7 : Sneaker\n",
    "8 : Bag\n",
    "9 : Ankel boot\n"
   ]
  },
  {
   "cell_type": "code",
   "execution_count": 8,
   "metadata": {},
   "outputs": [
    {
     "data": {
      "text/plain": [
       "(60000,)"
      ]
     },
     "execution_count": 8,
     "metadata": {},
     "output_type": "execute_result"
    }
   ],
   "source": [
    "y_train_full.shape"
   ]
  },
  {
   "cell_type": "code",
   "execution_count": 9,
   "metadata": {},
   "outputs": [
    {
     "name": "stdout",
     "output_type": "stream",
     "text": [
      "9\n"
     ]
    }
   ],
   "source": [
    "print(y_train_full[0])"
   ]
  },
  {
   "cell_type": "code",
   "execution_count": 10,
   "metadata": {},
   "outputs": [],
   "source": [
    "import matplotlib.pyplot as plt\n",
    "from PIL import Image\n",
    "import numpy as np"
   ]
  },
  {
   "cell_type": "code",
   "execution_count": 11,
   "metadata": {},
   "outputs": [
    {
     "data": {
      "text/plain": [
       "(28, 28)"
      ]
     },
     "execution_count": 11,
     "metadata": {},
     "output_type": "execute_result"
    }
   ],
   "source": [
    "X_train_full[0].shape"
   ]
  },
  {
   "cell_type": "code",
   "execution_count": 12,
   "metadata": {},
   "outputs": [],
   "source": [
    "# 검증 데이터 만들기, 255로 나누어 0~1 의 값으로 조정\n",
    "X_valid, X_train = X_train_full[:5000] / 255.0, X_train_full[5000:] / 255.0\n",
    "y_valid, y_train = y_train_full[:5000], y_train_full[5000:]\n",
    "X_test = X_test / 255.0"
   ]
  },
  {
   "cell_type": "code",
   "execution_count": 13,
   "metadata": {},
   "outputs": [],
   "source": [
    "class_name = [\"T-shirt/top\", \"Trouser\", \"Pullover\", \"Dress\", \"Coat\", \"Sandal\",\n",
    "              \"Shirt\", \"Sneaker\", \"Bag\", \"Ankle boot\"]"
   ]
  },
  {
   "cell_type": "code",
   "execution_count": 14,
   "metadata": {},
   "outputs": [
    {
     "data": {
      "text/plain": [
       "'\\nmodel = keras.models.Sequential([\\n            keras.layers.Flatten(input_size=[28,28]),\\n            keras.layers.Dense(300,activation=\"relu\"),\\n            keras.layers.Dense(100,activation=\"relu\"),\\n            keras.layers.Dense(10,activation=\"softmax\")\\n])\\n'"
      ]
     },
     "execution_count": 14,
     "metadata": {},
     "output_type": "execute_result"
    }
   ],
   "source": [
    "# 은닉층 2개인 다층 퍼셉트론\n",
    "\n",
    "# keras의 가장 간단한 신경망 모델. 순서대로 연결된 층을 일렬로 쌓아서 구성\n",
    "model = keras.models.Sequential()\n",
    "# 첫번째 층\n",
    "# Flatten : 입력 이미지를 일차원으로 변경\n",
    "# input_shape를 지정해야함 (입력 데이터 : X => X.reshape(-1,1)을 계산함)\n",
    "# input_shape=[28,28]로 지정된 것 = keras.layers.InputLayer\n",
    "# [28,28] : 입력 데이터 shape = (28,28)\n",
    "model.add(keras.layers.Flatten(input_shape=[28,28]))\n",
    "# Dense : 뉴런을 300, 100, 10개 가지는 은닉층 생성, activation : 활성화 함수\n",
    "# Dense 층마다 가중치 행렬을 관리\n",
    "# 이 행렬에는 층의 뉴런과 입력 사이의 모든 연결 가중치가 포함, 편향은 벡터로 관리\n",
    "model.add(keras.layers.Dense(300, activation=\"relu\"))\n",
    "model.add(keras.layers.Dense(100, activation=\"relu\"))\n",
    "# 출력층 활성화 함수 (출력함수) : softmax\n",
    "model.add(keras.layers.Dense(10, activation=\"softmax\"))\n",
    "\n",
    "# 위 모든 것과 다 같은 것\n",
    "\"\"\"\n",
    "model = keras.models.Sequential([\n",
    "            keras.layers.Flatten(input_size=[28,28]),\n",
    "            keras.layers.Dense(300,activation=\"relu\"),\n",
    "            keras.layers.Dense(100,activation=\"relu\"),\n",
    "            keras.layers.Dense(10,activation=\"softmax\")\n",
    "])\n",
    "\"\"\""
   ]
  },
  {
   "cell_type": "code",
   "execution_count": 15,
   "metadata": {},
   "outputs": [
    {
     "name": "stdout",
     "output_type": "stream",
     "text": [
      "Model: \"sequential\"\n",
      "_________________________________________________________________\n",
      "Layer (type)                 Output Shape              Param #   \n",
      "=================================================================\n",
      "flatten (Flatten)            (None, 784)               0         \n",
      "_________________________________________________________________\n",
      "dense (Dense)                (None, 300)               235500    \n",
      "_________________________________________________________________\n",
      "dense_1 (Dense)              (None, 100)               30100     \n",
      "_________________________________________________________________\n",
      "dense_2 (Dense)              (None, 10)                1010      \n",
      "=================================================================\n",
      "Total params: 266,610\n",
      "Trainable params: 266,610\n",
      "Non-trainable params: 0\n",
      "_________________________________________________________________\n"
     ]
    }
   ],
   "source": [
    "model.summary()"
   ]
  },
  {
   "cell_type": "code",
   "execution_count": 16,
   "metadata": {},
   "outputs": [],
   "source": [
    "input0 = model.layers[0]\n",
    "hidden1 = model.layers[1]\n",
    "hidden2 = model.layers[2]\n",
    "hidden3 = model.layers[3]"
   ]
  },
  {
   "cell_type": "code",
   "execution_count": 17,
   "metadata": {},
   "outputs": [
    {
     "name": "stdout",
     "output_type": "stream",
     "text": [
      "flatten dense dense_1 dense_2\n"
     ]
    }
   ],
   "source": [
    "print(input0.name, hidden1.name, hidden2.name, hidden3.name)"
   ]
  },
  {
   "cell_type": "code",
   "execution_count": 18,
   "metadata": {},
   "outputs": [
    {
     "name": "stdout",
     "output_type": "stream",
     "text": [
      "(784, 300)\n",
      "[[-0.02496411  0.05262119  0.02148519 ...  0.00704606 -0.01219616\n",
      "  -0.00780336]\n",
      " [-0.00728064 -0.02558921  0.01198664 ... -0.03731711 -0.01781959\n",
      "  -0.01344827]\n",
      " [-0.04412084 -0.06651291 -0.07412681 ... -0.06968372 -0.01532047\n",
      "   0.05667511]\n",
      " ...\n",
      " [ 0.00538479  0.06437938  0.06942172 ... -0.01061887  0.0567681\n",
      "   0.00906415]\n",
      " [-0.01668057 -0.0455225   0.01565193 ... -0.05793554  0.00969496\n",
      "   0.02166706]\n",
      " [-0.03948191  0.02816358  0.01284135 ... -0.03850654 -0.03482139\n",
      "   0.06028986]]\n",
      "(300,)\n",
      "[0. 0. 0. 0. 0. 0. 0. 0. 0. 0. 0. 0. 0. 0. 0. 0. 0. 0. 0. 0. 0. 0. 0. 0.\n",
      " 0. 0. 0. 0. 0. 0. 0. 0. 0. 0. 0. 0. 0. 0. 0. 0. 0. 0. 0. 0. 0. 0. 0. 0.\n",
      " 0. 0. 0. 0. 0. 0. 0. 0. 0. 0. 0. 0. 0. 0. 0. 0. 0. 0. 0. 0. 0. 0. 0. 0.\n",
      " 0. 0. 0. 0. 0. 0. 0. 0. 0. 0. 0. 0. 0. 0. 0. 0. 0. 0. 0. 0. 0. 0. 0. 0.\n",
      " 0. 0. 0. 0. 0. 0. 0. 0. 0. 0. 0. 0. 0. 0. 0. 0. 0. 0. 0. 0. 0. 0. 0. 0.\n",
      " 0. 0. 0. 0. 0. 0. 0. 0. 0. 0. 0. 0. 0. 0. 0. 0. 0. 0. 0. 0. 0. 0. 0. 0.\n",
      " 0. 0. 0. 0. 0. 0. 0. 0. 0. 0. 0. 0. 0. 0. 0. 0. 0. 0. 0. 0. 0. 0. 0. 0.\n",
      " 0. 0. 0. 0. 0. 0. 0. 0. 0. 0. 0. 0. 0. 0. 0. 0. 0. 0. 0. 0. 0. 0. 0. 0.\n",
      " 0. 0. 0. 0. 0. 0. 0. 0. 0. 0. 0. 0. 0. 0. 0. 0. 0. 0. 0. 0. 0. 0. 0. 0.\n",
      " 0. 0. 0. 0. 0. 0. 0. 0. 0. 0. 0. 0. 0. 0. 0. 0. 0. 0. 0. 0. 0. 0. 0. 0.\n",
      " 0. 0. 0. 0. 0. 0. 0. 0. 0. 0. 0. 0. 0. 0. 0. 0. 0. 0. 0. 0. 0. 0. 0. 0.\n",
      " 0. 0. 0. 0. 0. 0. 0. 0. 0. 0. 0. 0. 0. 0. 0. 0. 0. 0. 0. 0. 0. 0. 0. 0.\n",
      " 0. 0. 0. 0. 0. 0. 0. 0. 0. 0. 0. 0.]\n"
     ]
    }
   ],
   "source": [
    "# 가중치 보기, 초기화를 따로 하지 않으면 무작위로 초기화\n",
    "weights, biases = hidden1.get_weights() \n",
    "print(weights.shape)\n",
    "print(weights)\n",
    "print(biases.shape)\n",
    "print(biases)"
   ]
  },
  {
   "cell_type": "code",
   "execution_count": 19,
   "metadata": {},
   "outputs": [],
   "source": [
    "# 모델 컴파일\n",
    "model.compile(loss=\"sparse_categorical_crossentropy\", optimizer=\"sgd\", \n",
    "              metrics=[\"accuracy\"])\n",
    "\n",
    "# 클래스가 배타적이므로 sparse_categorical_crossentropy\n",
    "# 샘플마다 클래스 별 타깃 확률을 가진다면 \n",
    "# (원-핫 벡터 포함) 손실함수 : categorical_crossentropy\n",
    "# 이진 분류 수행하면 출력 층에 softmax 대신 sigmoid 사용, 손실 함수 : binary_crossentropy\n",
    "# sparse labe(희소 레이블)을 원-핫 벡터 레이블로 변환 : keras.utils.to_categorical\n",
    "\n",
    "# optimizer : 가중치 최적화 함수 설정\n",
    "# sgd : 기본적인 확률적 경사 강하법\n",
    "# 보통 sgd 사용하면 학습률 (lr) 같이 사용, default=0.01\n",
    "# optimizer = keras.optimizer.SGD(lr=???) 와 같이 사용 가능 "
   ]
  },
  {
   "cell_type": "code",
   "execution_count": 20,
   "metadata": {},
   "outputs": [
    {
     "name": "stdout",
     "output_type": "stream",
     "text": [
      "Epoch 1/30\n",
      "1719/1719 [==============================] - 4s 2ms/step - loss: 0.7246 - accuracy: 0.7627 - val_loss: 0.5004 - val_accuracy: 0.8344\n",
      "Epoch 2/30\n",
      "1719/1719 [==============================] - 3s 2ms/step - loss: 0.4912 - accuracy: 0.8281 - val_loss: 0.4582 - val_accuracy: 0.8464\n",
      "Epoch 3/30\n",
      "1719/1719 [==============================] - 3s 2ms/step - loss: 0.4448 - accuracy: 0.8432 - val_loss: 0.4170 - val_accuracy: 0.8590\n",
      "Epoch 4/30\n",
      "1719/1719 [==============================] - 3s 2ms/step - loss: 0.4167 - accuracy: 0.8536 - val_loss: 0.4226 - val_accuracy: 0.8514\n",
      "Epoch 5/30\n",
      "1719/1719 [==============================] - 3s 2ms/step - loss: 0.3974 - accuracy: 0.8597 - val_loss: 0.3924 - val_accuracy: 0.8668\n",
      "Epoch 6/30\n",
      "1719/1719 [==============================] - 4s 2ms/step - loss: 0.3822 - accuracy: 0.8654 - val_loss: 0.3710 - val_accuracy: 0.8730\n",
      "Epoch 7/30\n",
      "1719/1719 [==============================] - 3s 2ms/step - loss: 0.3680 - accuracy: 0.8696 - val_loss: 0.3981 - val_accuracy: 0.8550\n",
      "Epoch 8/30\n",
      "1719/1719 [==============================] - 3s 2ms/step - loss: 0.3557 - accuracy: 0.8735 - val_loss: 0.3645 - val_accuracy: 0.8708\n",
      "Epoch 9/30\n",
      "1719/1719 [==============================] - 3s 2ms/step - loss: 0.3451 - accuracy: 0.8769 - val_loss: 0.3535 - val_accuracy: 0.8778\n",
      "Epoch 10/30\n",
      "1719/1719 [==============================] - 4s 2ms/step - loss: 0.3366 - accuracy: 0.8801 - val_loss: 0.3552 - val_accuracy: 0.8744\n",
      "Epoch 11/30\n",
      "1719/1719 [==============================] - 3s 2ms/step - loss: 0.3271 - accuracy: 0.8828 - val_loss: 0.3465 - val_accuracy: 0.8760\n",
      "Epoch 12/30\n",
      "1719/1719 [==============================] - 4s 2ms/step - loss: 0.3200 - accuracy: 0.8862 - val_loss: 0.3489 - val_accuracy: 0.8774\n",
      "Epoch 13/30\n",
      "1719/1719 [==============================] - 4s 2ms/step - loss: 0.3132 - accuracy: 0.8881 - val_loss: 0.3344 - val_accuracy: 0.8822\n",
      "Epoch 14/30\n",
      "1719/1719 [==============================] - 3s 2ms/step - loss: 0.3052 - accuracy: 0.8915 - val_loss: 0.3292 - val_accuracy: 0.8864\n",
      "Epoch 15/30\n",
      "1719/1719 [==============================] - 3s 2ms/step - loss: 0.2992 - accuracy: 0.8936 - val_loss: 0.3352 - val_accuracy: 0.8790\n",
      "Epoch 16/30\n",
      "1719/1719 [==============================] - 3s 2ms/step - loss: 0.2935 - accuracy: 0.8948 - val_loss: 0.3193 - val_accuracy: 0.8866\n",
      "Epoch 17/30\n",
      "1719/1719 [==============================] - 3s 2ms/step - loss: 0.2865 - accuracy: 0.8982 - val_loss: 0.3146 - val_accuracy: 0.8888\n",
      "Epoch 18/30\n",
      "1719/1719 [==============================] - 3s 2ms/step - loss: 0.2819 - accuracy: 0.8997 - val_loss: 0.3199 - val_accuracy: 0.8846\n",
      "Epoch 19/30\n",
      "1719/1719 [==============================] - 3s 2ms/step - loss: 0.2764 - accuracy: 0.9003 - val_loss: 0.3125 - val_accuracy: 0.8892\n",
      "Epoch 20/30\n",
      "1719/1719 [==============================] - 3s 2ms/step - loss: 0.2718 - accuracy: 0.9032 - val_loss: 0.3104 - val_accuracy: 0.8872\n",
      "Epoch 21/30\n",
      "1719/1719 [==============================] - 4s 2ms/step - loss: 0.2669 - accuracy: 0.9047 - val_loss: 0.3114 - val_accuracy: 0.8902\n",
      "Epoch 22/30\n",
      "1719/1719 [==============================] - 3s 2ms/step - loss: 0.2614 - accuracy: 0.9065 - val_loss: 0.3142 - val_accuracy: 0.8836\n",
      "Epoch 23/30\n",
      "1719/1719 [==============================] - 3s 2ms/step - loss: 0.2573 - accuracy: 0.9080 - val_loss: 0.2990 - val_accuracy: 0.8922\n",
      "Epoch 24/30\n",
      "1719/1719 [==============================] - 3s 2ms/step - loss: 0.2523 - accuracy: 0.9103 - val_loss: 0.3077 - val_accuracy: 0.8908\n",
      "Epoch 25/30\n",
      "1719/1719 [==============================] - 3s 2ms/step - loss: 0.2480 - accuracy: 0.9115 - val_loss: 0.3058 - val_accuracy: 0.8920\n",
      "Epoch 26/30\n",
      "1719/1719 [==============================] - 3s 2ms/step - loss: 0.2445 - accuracy: 0.9127 - val_loss: 0.3059 - val_accuracy: 0.8918\n",
      "Epoch 27/30\n",
      "1719/1719 [==============================] - 4s 2ms/step - loss: 0.2398 - accuracy: 0.9149 - val_loss: 0.2962 - val_accuracy: 0.8928\n",
      "Epoch 28/30\n",
      "1719/1719 [==============================] - 4s 2ms/step - loss: 0.2357 - accuracy: 0.9156 - val_loss: 0.2988 - val_accuracy: 0.8930\n",
      "Epoch 29/30\n",
      "1719/1719 [==============================] - 4s 2ms/step - loss: 0.2313 - accuracy: 0.9176 - val_loss: 0.2990 - val_accuracy: 0.8914\n",
      "Epoch 30/30\n",
      "1719/1719 [==============================] - 4s 2ms/step - loss: 0.2288 - accuracy: 0.9184 - val_loss: 0.2984 - val_accuracy: 0.8902\n"
     ]
    }
   ],
   "source": [
    "# 모델 훈련\n",
    "history = model.fit(X_train, y_train, epochs=30, validation_data=(X_valid, y_valid))\n",
    "\n",
    "# fit : 모델 훈련시키는 메서드\n",
    "# epochs 따로 설정 안 하면 default=1\n",
    "# 검증 데이터는 선택사항\n",
    "# validation_data 대신 validation_split=0.1 로 하면\n",
    "# 검증 데이터를 훈련 데이터의 10%를 사용\n",
    "# fit : epoch 마다 정확도 출력해줌\n",
    "# 훈련 데이터나 검증 데이터 오버피팅 (과적합) 발생 여부 체크 가능\n",
    "# 한 쪽이 월등히 크다면 그 쪽으로 오버피팅 발생 "
   ]
  },
  {
   "cell_type": "code",
   "execution_count": 21,
   "metadata": {},
   "outputs": [
    {
     "data": {
      "image/png": "[encoded data removed]",
      "text/plain": [
       "<Figure size 576x360 with 1 Axes>"
      ]
     },
     "metadata": {
      "needs_background": "light"
     },
     "output_type": "display_data"
    }
   ],
   "source": [
    "# fit 메서드는 History 객체를 반환\n",
    "# 훈련 파라미터 (history.params), 에폭 리스트 (history.epoch)\n",
    "# 에폭 끝날 때 마다 훈련 데이터와 검증 데이터에 대한 \n",
    "# 손실, 측정 지표를 담은 딕셔너리 (history.history) 등이 포함됨\n",
    "\n",
    "# history.history를 이용해 학습 곡선 확인하기\n",
    "import pandas as pd\n",
    "import matplotlib.pyplot as plt\n",
    "\n",
    "pd.DataFrame(history.history).plot(figsize=(8,5))\n",
    "plt.grid(True)\n",
    "plt.gca().set_ylim(0,1)\n",
    "plt.show()"
   ]
  },
  {
   "cell_type": "code",
   "execution_count": 25,
   "metadata": {},
   "outputs": [
    {
     "data": {
      "text/plain": [
       "array([[0.  , 0.  , 0.  , 0.  , 0.  , 0.  , 0.  , 0.01, 0.  , 0.98],\n",
       "       [0.  , 0.  , 0.99, 0.  , 0.  , 0.  , 0.  , 0.  , 0.  , 0.  ],\n",
       "       [0.  , 1.  , 0.  , 0.  , 0.  , 0.  , 0.  , 0.  , 0.  , 0.  ]],\n",
       "      dtype=float32)"
      ]
     },
     "execution_count": 25,
     "metadata": {},
     "output_type": "execute_result"
    }
   ],
   "source": [
    "# predict : 샘플에 대한 예측\n",
    "X_new = X_test[:3]\n",
    "y_proba = model.predict(X_new)\n",
    "y_proba.round(2)"
   ]
  },
  {
   "cell_type": "code",
   "execution_count": 28,
   "metadata": {},
   "outputs": [
    {
     "data": {
      "text/plain": [
       "array([9, 2, 1], dtype=int64)"
      ]
     },
     "execution_count": 28,
     "metadata": {},
     "output_type": "execute_result"
    }
   ],
   "source": [
    "# predict_classes : 없어짐, 아래 대체 방법, predict_classes 실행하면 에러로 알려줌\n",
    "# 확률이 가장 높은 클래스만 \n",
    "y_pred = np.argmax(model.predict(X_new), axis=-1)\n",
    "y_pred"
   ]
  },
  {
   "cell_type": "code",
   "execution_count": 30,
   "metadata": {},
   "outputs": [
    {
     "data": {
      "text/plain": [
       "array(['Ankle boot', 'Pullover', 'Trouser'], dtype='<U11')"
      ]
     },
     "execution_count": 30,
     "metadata": {},
     "output_type": "execute_result"
    }
   ],
   "source": [
    "np.array(class_name)[y_pred]"
   ]
  },
  {
   "cell_type": "code",
   "execution_count": null,
   "metadata": {},
   "outputs": [],
   "source": []
  }
 ],
 "metadata": {
  "kernelspec": {
   "display_name": "python3.7",
   "language": "python",
   "name": "python3.7"
  },
  "language_info": {
   "codemirror_mode": {
    "name": "ipython",
    "version": 3
   },
   "file_extension": ".py",
   "mimetype": "text/x-python",
   "name": "python",
   "nbconvert_exporter": "python",
   "pygments_lexer": "ipython3",
   "version": "3.7.9"
  }
 },
 "nbformat": 4,
 "nbformat_minor": 4
}
